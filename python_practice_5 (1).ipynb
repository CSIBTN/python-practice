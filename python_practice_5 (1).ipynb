{
  "nbformat": 4,
  "nbformat_minor": 0,
  "metadata": {
    "colab": {
      "provenance": []
    },
    "kernelspec": {
      "name": "python3",
      "display_name": "Python 3"
    },
    "language_info": {
      "name": "python"
    }
  },
  "cells": [
    {
      "cell_type": "markdown",
      "source": [
        "# I. OOP"
      ],
      "metadata": {
        "id": "5qV_sehzFCTp"
      }
    },
    {
      "cell_type": "markdown",
      "source": [
        "1. (6б). Створіть клас Animal, додайте три атрибути, один з яких має значення за замовчуванням та два методи на свій розсуд."
      ],
      "metadata": {
        "id": "tx_U_hOALyfg"
      }
    },
    {
      "cell_type": "code",
      "source": [
        "class Animal:\n",
        "    def __init__(self, name, species, sound=\"Graw!\"):\n",
        "        self.name = name\n",
        "        self.species = species\n",
        "        self.sound = sound\n",
        "\n",
        "    def make_sound(self):\n",
        "        if self.sound:\n",
        "            return f\"The {self.species} {self.name} says {self.sound}.\"\n",
        "        else:\n",
        "            return f\"The {self.species} {self.name} is quiet.\"\n",
        "\n",
        "    def run(self, distance):\n",
        "        return f\"The {self.species} {self.name} runs {distance} units.\"\n"
      ],
      "metadata": {
        "id": "-Vf895KaL88N"
      },
      "execution_count": 1,
      "outputs": []
    },
    {
      "cell_type": "markdown",
      "source": [
        "2. (2б). Створіть два обʼєкти цього класу, де один з обʼєктів створюється із дефолтним значенням атрибуту. На одному обʼєкті отримайте значення його атрибуту, а на іншому викличте один з його методів."
      ],
      "metadata": {
        "id": "X_UlOMB0L93w"
      }
    },
    {
      "cell_type": "code",
      "source": [
        "dog = Animal(\"Dog\", \"Canine\")\n",
        "\n",
        "cat = Animal(\"Cat\", \"Feline\", \"Meow\")\n",
        "\n",
        "print(\"Sound of dog:\", dog.sound)\n",
        "\n",
        "print(cat.make_sound())"
      ],
      "metadata": {
        "id": "7gBu0ESOMCpG",
        "colab": {
          "base_uri": "https://localhost:8080/"
        },
        "outputId": "0298d874-bdca-4199-e629-a1a1fc3503a1"
      },
      "execution_count": 2,
      "outputs": [
        {
          "output_type": "stream",
          "name": "stdout",
          "text": [
            "Sound of dog: Graw!\n",
            "The Feline Cat says Meow.\n"
          ]
        }
      ]
    },
    {
      "cell_type": "markdown",
      "source": [
        "3. (5б). Створіть клас, де атрибути мають різні рівні доступу. Спробуйте отримати їхні значення та опишіть результати."
      ],
      "metadata": {
        "id": "HoqSCZt1MHn5"
      }
    },
    {
      "cell_type": "code",
      "source": [
        "class MyClass:\n",
        "    def __init__(self):\n",
        "        self.public_attr = \"This is a public attribute\"\n",
        "        self._protected_attr = \"This is a protected attribute\"\n",
        "        self.__private_attr = \"This is a private attribute\"\n",
        "\n",
        "\n",
        "\n",
        "\n",
        "obj = MyClass()\n",
        "\n",
        "print(obj.public_attr) # Публічні атрибути доступні будь-де\n",
        "\n",
        "print(obj._protected_attr)  # Захищенні атрибути доступні лише там, де знаходиться сам клас та у його підкласах\n",
        "\n",
        "print(obj.__private_attr) # Приватні атрибути доступні лище усередині класу\n"
      ],
      "metadata": {
        "id": "r9b3vJxBMSPV",
        "colab": {
          "base_uri": "https://localhost:8080/",
          "height": 211
        },
        "outputId": "8b9c9ed4-4c27-4d00-8094-8a2798272c91"
      },
      "execution_count": 4,
      "outputs": [
        {
          "output_type": "stream",
          "name": "stdout",
          "text": [
            "This is a public attribute\n",
            "This is a protected attribute\n"
          ]
        },
        {
          "output_type": "error",
          "ename": "AttributeError",
          "evalue": "'MyClass' object has no attribute '__private_attr'",
          "traceback": [
            "\u001b[0;31m---------------------------------------------------------------------------\u001b[0m",
            "\u001b[0;31mAttributeError\u001b[0m                            Traceback (most recent call last)",
            "\u001b[0;32m<ipython-input-4-a1acab2f9c50>\u001b[0m in \u001b[0;36m<cell line: 16>\u001b[0;34m()\u001b[0m\n\u001b[1;32m     14\u001b[0m \u001b[0mprint\u001b[0m\u001b[0;34m(\u001b[0m\u001b[0mobj\u001b[0m\u001b[0;34m.\u001b[0m\u001b[0m_protected_attr\u001b[0m\u001b[0;34m)\u001b[0m  \u001b[0;31m# Захищенні атрибути доступні лише там, де знаходиться сам клас та у його підкласах\u001b[0m\u001b[0;34m\u001b[0m\u001b[0;34m\u001b[0m\u001b[0m\n\u001b[1;32m     15\u001b[0m \u001b[0;34m\u001b[0m\u001b[0m\n\u001b[0;32m---> 16\u001b[0;31m \u001b[0mprint\u001b[0m\u001b[0;34m(\u001b[0m\u001b[0mobj\u001b[0m\u001b[0;34m.\u001b[0m\u001b[0m__private_attr\u001b[0m\u001b[0;34m)\u001b[0m \u001b[0;31m# Приватні атрибути доступні лище усередині класу\u001b[0m\u001b[0;34m\u001b[0m\u001b[0;34m\u001b[0m\u001b[0m\n\u001b[0m",
            "\u001b[0;31mAttributeError\u001b[0m: 'MyClass' object has no attribute '__private_attr'"
          ]
        }
      ]
    },
    {
      "cell_type": "markdown",
      "source": [
        "4. (7б). Як ви розумієте термін self? Для чого використовується метод __init __?"
      ],
      "metadata": {
        "id": "5op2m2vgMSkZ"
      }
    },
    {
      "cell_type": "markdown",
      "source": [
        "self - щось схоже на this у java. Він посилається на конкретний об'єкт в середині методів класу\n",
        "\n",
        "\n",
        "__init__ - використовується для ініціалізації нового об'єкту класу, а також задаватит його початкові значення атрибутів"
      ],
      "metadata": {
        "id": "DyiPqNRvMasx"
      }
    },
    {
      "cell_type": "markdown",
      "source": [
        "5. (9б). Створіть клас Фігура без атрибутів, з методом get_area для отримання площі фігури, що повертає 0 та __add __, який приймає self та other в якості аргументів, а повертає суму площин фігур self та other."
      ],
      "metadata": {
        "id": "-6X8EGfjMd2y"
      }
    },
    {
      "cell_type": "code",
      "source": [
        "class Figure:\n",
        "    def get_area(self):\n",
        "        return 0\n",
        "\n",
        "    def __add__(self, other):\n",
        "        return self.get_area() + other.get_area()\n",
        "\n",
        "\n",
        "figure1 = Figure()\n",
        "figure2 = Figure()\n",
        "\n",
        "print(\"Площа фігури 1:\", figure1.get_area())\n",
        "print(\"Площа фігури 2:\", figure2.get_area())\n",
        "\n",
        "\n",
        "print(\"Сумарна площа фігур:\", figure1 + figure2)\n"
      ],
      "metadata": {
        "id": "4rvO_wYUMaEr",
        "colab": {
          "base_uri": "https://localhost:8080/"
        },
        "outputId": "9380a4f2-a491-4459-c62a-077f325a8552"
      },
      "execution_count": 10,
      "outputs": [
        {
          "output_type": "stream",
          "name": "stdout",
          "text": [
            "Площа фігури 1: 0\n",
            "Площа фігури 2: 0\n",
            "Сумарна площа фігур: 0\n"
          ]
        }
      ]
    },
    {
      "cell_type": "markdown",
      "source": [
        "6. (11б). Створіть 2 дочірніх класи від Фігури: Трикутник та Коло, які мають атрибути, необхідні для розрахунку площин. Визначте метод get_area в кожному з них так, щоби вони розраховували площу в залежності від формули для кожного типу фігури. Створіть обʼєкт класу Трикутник та обʼєкт класу Коло. Виконайте операцію суми за допомогою оператора + між ними."
      ],
      "metadata": {
        "id": "SFcKnnv5Mo_z"
      }
    },
    {
      "cell_type": "code",
      "source": [
        "import math\n",
        "\n",
        "class Figure:\n",
        "    def get_area(self):\n",
        "        return 0\n",
        "\n",
        "    def __add__(self, other):\n",
        "        return self.get_area() + other.get_area()\n",
        "\n",
        "class Triangle(Figure):\n",
        "    def __init__(self, base, height):\n",
        "        self.base = base\n",
        "        self.height = height\n",
        "\n",
        "    def get_area(self):\n",
        "        return 0.5 * self.base * self.height\n",
        "\n",
        "class Circle(Figure):\n",
        "    def __init__(self, radius):\n",
        "        self.radius = radius\n",
        "\n",
        "    def get_area(self):\n",
        "        return math.pi * self.radius ** 2\n",
        "\n",
        "triangle = Triangle(base=5, height=3)\n",
        "circle = Circle(radius=4)\n",
        "\n",
        "print(\"Площа трикутника:\", triangle.get_area())\n",
        "print(\"Площа кола:\", circle.get_area())\n",
        "\n",
        "print(\"Сумарна площа фігур:\", triangle + circle)"
      ],
      "metadata": {
        "id": "H3GVNr69Muf3",
        "colab": {
          "base_uri": "https://localhost:8080/"
        },
        "outputId": "fdd7f28d-c907-407d-c9cf-a38641c6a1a6"
      },
      "execution_count": 11,
      "outputs": [
        {
          "output_type": "stream",
          "name": "stdout",
          "text": [
            "Площа трикутника: 7.5\n",
            "Площа кола: 50.26548245743669\n",
            "Сумарна площа фігур: 57.76548245743669\n"
          ]
        }
      ]
    },
    {
      "cell_type": "markdown",
      "source": [
        "7. (3б). Продемонструйте різницю між isinstance та issubclass.\n"
      ],
      "metadata": {
        "id": "HCvR206YMvLK"
      }
    },
    {
      "cell_type": "code",
      "source": [
        "class ParentClass:\n",
        "    pass\n",
        "\n",
        "class ChildClass(ParentClass):\n",
        "    pass\n",
        "\n",
        "parent_obj = ParentClass()\n",
        "child_obj = ChildClass()\n",
        "\n",
        "print(isinstance(child_obj, ChildClass))\n",
        "\n",
        "print(isinstance(child_obj, ParentClass))\n",
        "\n",
        "print(issubclass(ParentClass, ChildClass))\n",
        "\n",
        "print(issubclass(ChildClass, ParentClass))\n"
      ],
      "metadata": {
        "id": "L_V1bBvDM0GN",
        "colab": {
          "base_uri": "https://localhost:8080/"
        },
        "outputId": "c3190791-7aa4-4bf7-d68a-f88e1dac554e"
      },
      "execution_count": 13,
      "outputs": [
        {
          "output_type": "stream",
          "name": "stdout",
          "text": [
            "True\n",
            "True\n",
            "False\n",
            "True\n"
          ]
        }
      ]
    },
    {
      "cell_type": "markdown",
      "source": [
        "8. (13б). Створіть клас BankAccount з приватними атрибутами balance та account_number. Реалізуйте методи поповнення та зняття коштів, забезпечивши належну інкапсуляцію. Підказка: використовуйте декоратори property та setter."
      ],
      "metadata": {
        "id": "jjsaBZ-iM0Qq"
      }
    },
    {
      "cell_type": "code",
      "source": [
        "class BankAccount:\n",
        "    def __init__(self, account_number, initial_balance=0):\n",
        "        self.__account_number = account_number\n",
        "        self.__balance = initial_balance\n",
        "\n",
        "    @property\n",
        "    def balance(self):\n",
        "        return self.__balance\n",
        "\n",
        "    @property\n",
        "    def account_number(self):\n",
        "        return self.__account_number\n",
        "\n",
        "    @balance.setter\n",
        "    def balance(self, amount):\n",
        "        if amount >= 0:\n",
        "            self.__balance = amount\n",
        "        else:\n",
        "            print(\"Amount must be non-negative.\")\n",
        "\n",
        "    def deposit(self, amount):\n",
        "        if amount > 0:\n",
        "            self.__balance += amount\n",
        "        else:\n",
        "            print(\"Deposit amount must be positive.\")\n",
        "\n",
        "    def withdraw(self, amount):\n",
        "        if 0 < amount <= self.__balance:\n",
        "            self.__balance -= amount\n",
        "        else:\n",
        "            print(\"Withdrawal amount must be positive and less than or equal to balance.\")\n"
      ],
      "metadata": {
        "id": "xCvZ7lh8M7YA"
      },
      "execution_count": 14,
      "outputs": []
    },
    {
      "cell_type": "markdown",
      "source": [
        "9. (11б). Створіть клас Library, який містить список об'єктів типу Book. Реалізуйте методи для додавання книги, видалення книги та відображення списку книг."
      ],
      "metadata": {
        "id": "tIzL2SJTM8ft"
      }
    },
    {
      "cell_type": "code",
      "source": [
        "class Book:\n",
        "    def __init__(self, title, author):\n",
        "        self.title = title\n",
        "        self.author = author\n",
        "\n",
        "class Library:\n",
        "    def __init__(self):\n",
        "        self.books = []\n",
        "\n",
        "    def add_book(self, book):\n",
        "        if isinstance(book, Book):\n",
        "            self.books.append(book)\n",
        "            print(f\"Книга '{book.title}' додана до бібліотеки.\")\n",
        "        else:\n",
        "            print(\"Додавання невдале. Об'єкт не є книгою.\")\n",
        "\n",
        "    def remove_book(self, title):\n",
        "        for book in self.books:\n",
        "            if book.title == title:\n",
        "                self.books.remove(book)\n",
        "                print(f\"Книга '{book.title}' видалена з бібліотеки.\")\n",
        "                return\n",
        "        print(f\"Книга з назвою '{title}' не знайдена в бібліотеці.\")\n",
        "\n",
        "    def display_books(self):\n",
        "        if self.books:\n",
        "            print(\"Список книг у бібліотеці:\")\n",
        "            for book in self.books:\n",
        "                print(f\"- {book.title} by {book.author}\")\n",
        "        else:\n",
        "            print(\"У бібліотеці немає жодної книги.\")\n",
        "\n",
        "library = Library()\n",
        "\n",
        "book1 = Book(\"Harry Potter and the Philosopher's Stone\", \"J.K. Rowling\")\n",
        "book2 = Book(\"To Kill a Mockingbird\", \"Harper Lee\")\n",
        "library.add_book(book1)\n",
        "library.add_book(book2)\n",
        "\n",
        "library.remove_book(\"To Kill a Mockingbird\")\n",
        "\n",
        "library.display_books()\n"
      ],
      "metadata": {
        "id": "HWxfJKLtNAUZ",
        "colab": {
          "base_uri": "https://localhost:8080/"
        },
        "outputId": "dce7be83-ac1e-4bba-8ba6-a25e225b9fa3"
      },
      "execution_count": 15,
      "outputs": [
        {
          "output_type": "stream",
          "name": "stdout",
          "text": [
            "Книга 'Harry Potter and the Philosopher's Stone' додана до бібліотеки.\n",
            "Книга 'To Kill a Mockingbird' додана до бібліотеки.\n",
            "Книга 'To Kill a Mockingbird' видалена з бібліотеки.\n",
            "Список книг у бібліотеці:\n",
            "- Harry Potter and the Philosopher's Stone by J.K. Rowling\n"
          ]
        }
      ]
    },
    {
      "cell_type": "markdown",
      "source": [
        "10. (13б). Створіть клас Person з атрибутами name та age. Створіть ще один клас Employee з такими атрибутами, як department та salary. Створіть клас Manager, який успадковує обидва класи Person та Employee. Продемонструйте використання множинної спадковості, створивши обʼєкт класу Manager та отримавши mro для цього класу."
      ],
      "metadata": {
        "id": "lmV8pAwwNIqu"
      }
    },
    {
      "cell_type": "code",
      "source": [
        "class Person:\n",
        "    def __init__(self, name, age):\n",
        "        self.name = name\n",
        "        self.age = age\n",
        "\n",
        "class Employee:\n",
        "    def __init__(self, department, salary):\n",
        "        self.department = department\n",
        "        self.salary = salary\n",
        "\n",
        "class Manager(Person, Employee):\n",
        "    def __init__(self, name, age, department, salary):\n",
        "        Person.__init__(self, name, age)\n",
        "        Employee.__init__(self, department, salary)\n",
        "\n",
        "manager = Manager(\"John\", 40, \"IT\", 5000)\n",
        "\n",
        "print(\"Ім'я:\", manager.name)\n",
        "print(\"Вік:\", manager.age)\n",
        "print(\"Відділ:\", manager.department)\n",
        "print(\"Зарплата:\", manager.salary)\n",
        "\n",
        "print(\"\\nПорядок методів спадковості (MRO):\", Manager.mro())\n"
      ],
      "metadata": {
        "id": "R49grKlWNPeN",
        "colab": {
          "base_uri": "https://localhost:8080/"
        },
        "outputId": "10793c8e-601a-406e-addb-6c3f68d0d38d"
      },
      "execution_count": 16,
      "outputs": [
        {
          "output_type": "stream",
          "name": "stdout",
          "text": [
            "Ім'я: John\n",
            "Вік: 40\n",
            "Відділ: IT\n",
            "Зарплата: 5000\n",
            "\n",
            "Порядок методів спадковості (MRO): [<class '__main__.Manager'>, <class '__main__.Person'>, <class '__main__.Employee'>, <class 'object'>]\n"
          ]
        }
      ]
    },
    {
      "cell_type": "markdown",
      "source": [
        "# II. Iterator"
      ],
      "metadata": {
        "id": "dIJyUiNBFG8G"
      }
    },
    {
      "cell_type": "markdown",
      "source": [
        "11. (4б). Визначте рядок(str) з 4ма різними за значенням символами. Створіть ітератор на основі цього рядка. Викличте 5 разів функцію next на ітераторі, 4ри перших з них огорніть у ф-цію print()."
      ],
      "metadata": {
        "id": "13vsm0NyKIzL"
      }
    },
    {
      "cell_type": "code",
      "source": [
        "my_string = \"abcd\"\n",
        "\n",
        "my_iterator = iter(my_string)\n",
        "\n",
        "print(next(my_iterator))\n",
        "print(next(my_iterator))\n",
        "print(next(my_iterator))\n",
        "print(next(my_iterator))\n",
        "next(my_iterator)\n"
      ],
      "metadata": {
        "id": "81ntabAkKuz-",
        "colab": {
          "base_uri": "https://localhost:8080/",
          "height": 245
        },
        "outputId": "3697bc0e-bc20-466d-fdd6-1f8bd099ce9d"
      },
      "execution_count": 18,
      "outputs": [
        {
          "output_type": "stream",
          "name": "stdout",
          "text": [
            "a\n",
            "b\n",
            "c\n",
            "d\n"
          ]
        },
        {
          "output_type": "error",
          "ename": "StopIteration",
          "evalue": "",
          "traceback": [
            "\u001b[0;31m---------------------------------------------------------------------------\u001b[0m",
            "\u001b[0;31mStopIteration\u001b[0m                             Traceback (most recent call last)",
            "\u001b[0;32m<ipython-input-18-4e9a6f84f879>\u001b[0m in \u001b[0;36m<cell line: 9>\u001b[0;34m()\u001b[0m\n\u001b[1;32m      7\u001b[0m \u001b[0mprint\u001b[0m\u001b[0;34m(\u001b[0m\u001b[0mnext\u001b[0m\u001b[0;34m(\u001b[0m\u001b[0mmy_iterator\u001b[0m\u001b[0;34m)\u001b[0m\u001b[0;34m)\u001b[0m\u001b[0;34m\u001b[0m\u001b[0;34m\u001b[0m\u001b[0m\n\u001b[1;32m      8\u001b[0m \u001b[0mprint\u001b[0m\u001b[0;34m(\u001b[0m\u001b[0mnext\u001b[0m\u001b[0;34m(\u001b[0m\u001b[0mmy_iterator\u001b[0m\u001b[0;34m)\u001b[0m\u001b[0;34m)\u001b[0m\u001b[0;34m\u001b[0m\u001b[0;34m\u001b[0m\u001b[0m\n\u001b[0;32m----> 9\u001b[0;31m \u001b[0mnext\u001b[0m\u001b[0;34m(\u001b[0m\u001b[0mmy_iterator\u001b[0m\u001b[0;34m)\u001b[0m\u001b[0;34m\u001b[0m\u001b[0;34m\u001b[0m\u001b[0m\n\u001b[0m",
            "\u001b[0;31mStopIteration\u001b[0m: "
          ]
        }
      ]
    },
    {
      "cell_type": "markdown",
      "source": [
        "А що якщо викликати цю ж функцію на рядку?"
      ],
      "metadata": {
        "id": "aekWHGXOLRsO"
      }
    },
    {
      "cell_type": "code",
      "source": [
        "next(my_string)"
      ],
      "metadata": {
        "id": "mxATGsErLV1i",
        "colab": {
          "base_uri": "https://localhost:8080/",
          "height": 141
        },
        "outputId": "38eba4c6-fbc7-4f93-f074-031bde366e1e"
      },
      "execution_count": 19,
      "outputs": [
        {
          "output_type": "error",
          "ename": "TypeError",
          "evalue": "'str' object is not an iterator",
          "traceback": [
            "\u001b[0;31m---------------------------------------------------------------------------\u001b[0m",
            "\u001b[0;31mTypeError\u001b[0m                                 Traceback (most recent call last)",
            "\u001b[0;32m<ipython-input-19-536fe210e95a>\u001b[0m in \u001b[0;36m<cell line: 1>\u001b[0;34m()\u001b[0m\n\u001b[0;32m----> 1\u001b[0;31m \u001b[0mnext\u001b[0m\u001b[0;34m(\u001b[0m\u001b[0mmy_string\u001b[0m\u001b[0;34m)\u001b[0m\u001b[0;34m\u001b[0m\u001b[0;34m\u001b[0m\u001b[0m\n\u001b[0m",
            "\u001b[0;31mTypeError\u001b[0m: 'str' object is not an iterator"
          ]
        }
      ]
    },
    {
      "cell_type": "markdown",
      "source": [
        " 12. (5б). Опишіть своїми словами в одному реченні, як ви розумієте різницю між ітерабельними обʼєктами та ітераторами (можна на прикладі)."
      ],
      "metadata": {
        "id": "XwtMEopwJ4pH"
      }
    },
    {
      "cell_type": "markdown",
      "source": [
        "Ітерабельні об'єкти можна перебирати по одному, тобто, наприклад, за допомогою циклу або іншого ітераційного методу, тоді як ітератори - це спеціальні об'єкти, які безпосередньо зберігають свій внутрішній стан та можуть повертати наступний елемент ітерабельних об'єктів під час ітерації, дозволяючи пройтися по елементах послідовно."
      ],
      "metadata": {
        "id": "-sHrODc3KFn8"
      }
    },
    {
      "cell_type": "markdown",
      "source": [
        "13. (11б). Створіть клас, що має визначений Iterator Protocol та при кожному виклику next повертає літери англійської абетки, поки вони не вичерпаються."
      ],
      "metadata": {
        "id": "E9qJWmNbK8Gl"
      }
    },
    {
      "cell_type": "code",
      "source": [
        "class AlphabetIterator:\n",
        "    def __init__(self):\n",
        "        self.current_char = ord('a')\n",
        "\n",
        "    def __iter__(self):\n",
        "        return self\n",
        "\n",
        "    def __next__(self):\n",
        "        if self.current_char <= ord('z'):\n",
        "            char = chr(self.current_char)\n",
        "            self.current_char += 1\n",
        "            return char\n",
        "        else:\n",
        "            raise StopIteration\n",
        "\n",
        "\n",
        "class Alphabet:\n",
        "    def __iter__(self):\n",
        "        return AlphabetIterator()\n",
        "\n",
        "\n",
        "alphabet = Alphabet()\n",
        "iterator = iter(alphabet)\n",
        "\n",
        "for _ in range(26):\n",
        "    print(next(iterator))\n"
      ],
      "metadata": {
        "id": "cqx-g_RsLo6I",
        "colab": {
          "base_uri": "https://localhost:8080/"
        },
        "outputId": "2a734bf2-c063-4e6c-d4ba-32da7fbb7c32"
      },
      "execution_count": 20,
      "outputs": [
        {
          "output_type": "stream",
          "name": "stdout",
          "text": [
            "a\n",
            "b\n",
            "c\n",
            "d\n",
            "e\n",
            "f\n",
            "g\n",
            "h\n",
            "i\n",
            "j\n",
            "k\n",
            "l\n",
            "m\n",
            "n\n",
            "o\n",
            "p\n",
            "q\n",
            "r\n",
            "s\n",
            "t\n",
            "u\n",
            "v\n",
            "w\n",
            "x\n",
            "y\n",
            "z\n"
          ]
        }
      ]
    },
    {
      "cell_type": "markdown",
      "source": [
        "# Вітаю! Ви велика(ий) молодець, що впоралась(вся). Похваліть себе та побалуйте чимось приємним. Я Вами пишаюся."
      ],
      "metadata": {
        "id": "Z3E3S_s1Fv7-"
      }
    }
  ]
}